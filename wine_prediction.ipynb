{
  "nbformat": 4,
  "nbformat_minor": 0,
  "metadata": {
    "colab": {
      "name": "wine_prediction.ipynb",
      "provenance": [],
      "collapsed_sections": [],
      "authorship_tag": "ABX9TyMDQyS2tUcN1MwdlFC2eeVP"
    },
    "kernelspec": {
      "name": "python3",
      "display_name": "Python 3"
    },
    "language_info": {
      "name": "python"
    }
  },
  "cells": [
    {
      "cell_type": "code",
      "source": [
        "import torch\n",
        "import random \n",
        "import numpy as np\n",
        "\n",
        "random.seed(0)\n",
        "np.random.seed(0)\n",
        "torch.manual_seed(0)\n",
        "torch.cuda.manual_seed(0)\n",
        "torch.backends.cudnn.deterministic = True\n"
      ],
      "metadata": {
        "id": "O49DPC9nuBwc"
      },
      "execution_count": null,
      "outputs": []
    },
    {
      "cell_type": "code",
      "source": [
        "import sklearn.datasets\n",
        "wine = sklearn.datasets.load_wine()\n",
        "wine.data.shape"
      ],
      "metadata": {
        "colab": {
          "base_uri": "https://localhost:8080/"
        },
        "id": "GCPNkKAuxTzV",
        "outputId": "a8220cea-2856-47b1-8128-631c12ec3e17"
      },
      "execution_count": null,
      "outputs": [
        {
          "output_type": "execute_result",
          "data": {
            "text/plain": [
              "(178, 13)"
            ]
          },
          "metadata": {},
          "execution_count": 26
        }
      ]
    },
    {
      "cell_type": "code",
      "source": [
        "from sklearn.model_selection import train_test_split\n",
        "X_train, X_test, y_train, y_test = train_test_split(\n",
        "    wine.data[:, :2],\n",
        "    wine.target,\n",
        "    test_size = 0.3,\n",
        "    shuffle = True\n",
        "    )\n",
        "\n",
        "X_train = torch.FloatTensor(X_train)\n",
        "X_test = torch.FloatTensor(X_test)\n",
        "y_train = torch.LongTensor(y_train)\n",
        "y_test = torch.LongTensor(y_test)"
      ],
      "metadata": {
        "id": "oKbfXx8Xyh_s"
      },
      "execution_count": null,
      "outputs": []
    },
    {
      "cell_type": "code",
      "source": [
        "class WineNet(torch.nn.Module):\n",
        "  def __init__(self, n_hidden_neurons):\n",
        "    super(WineNet, self).__init__()\n",
        "\n",
        "    self.fc1 = torch.nn.Linear(2, n_hidden_neurons)\n",
        "    self.active1 = torch.nn.Sigmoid()\n",
        "    self.fc2 = torch.nn.Linear(n_hidden_neurons, n_hidden_neurons)\n",
        "    self.active2 = torch.nn.Sigmoid()\n",
        "    self.fc3 = torch.nn.Linear(n_hidden_neurons, 3)\n",
        "    self.sm = torch.nn.Softmax(dim=1)\n",
        "\n",
        "  def forward(self, x):\n",
        "    x = self.fc1(x)\n",
        "    x = self.active1(x)\n",
        "    x = self.fc2(x)\n",
        "    x = self.active2(x)\n",
        "    x = self.fc3(x)\n",
        "    return x\n",
        "\n",
        "  def inference(self, x):\n",
        "    x = self.forward(x)\n",
        "    x = self.sm(x)\n",
        "    return x\n",
        "\n",
        "wine_net = WineNet(5)"
      ],
      "metadata": {
        "id": "FHXy1iArz7Bn"
      },
      "execution_count": null,
      "outputs": []
    },
    {
      "cell_type": "code",
      "source": [
        "loss = torch.nn.CrossEntropyLoss()\n",
        "optimizer = torch.optim.Adam(wine_net.parameters(), lr= 1.0e-3)"
      ],
      "metadata": {
        "id": "uesI8O2zLK14"
      },
      "execution_count": null,
      "outputs": []
    },
    {
      "cell_type": "code",
      "source": [
        "np.random.permutation(5)"
      ],
      "metadata": {
        "colab": {
          "base_uri": "https://localhost:8080/"
        },
        "id": "4cgvCqzILfRx",
        "outputId": "2a2437ba-7233-4ac4-b8f0-b1ad7ffa275f"
      },
      "execution_count": null,
      "outputs": [
        {
          "output_type": "execute_result",
          "data": {
            "text/plain": [
              "array([0, 1, 2, 3, 4])"
            ]
          },
          "metadata": {},
          "execution_count": 31
        }
      ]
    },
    {
      "cell_type": "code",
      "source": [
        "batch_size = 10\n",
        "\n",
        "for epoch in range(5000):\n",
        "      order = np.random.permutation(len(X_train))\n",
        "      for start_index in range(0, len(X_train), batch_size):\n",
        "        optimizer.zero_grad()\n",
        "\n",
        "        batch_indexes = order[start_index:start_index+batch_size]\n",
        "\n",
        "        x_batch = X_train[batch_indexes]\n",
        "        y_batch = y_train[batch_indexes]\n",
        "\n",
        "        preds = wine_net.forward(x_batch)\n",
        "\n",
        "        loss_val = loss(preds, y_batch)\n",
        "        loss_val.backward()\n",
        "        \n",
        "        optimizer.step()\n",
        "      \n",
        "      if epoch % 100 == 0:\n",
        "        test_preds = wine_net.forward(X_test)\n",
        "        test_preds = test_preds.argmax(dim=1)\n",
        "        print((test_preds == y_test).float().mean())"
      ],
      "metadata": {
        "colab": {
          "base_uri": "https://localhost:8080/"
        },
        "id": "e9DnhJbdMtSq",
        "outputId": "ea65329c-cc74-407b-d019-26bb4f6f77f6"
      },
      "execution_count": null,
      "outputs": [
        {
          "output_type": "stream",
          "name": "stdout",
          "text": [
            "tensor(0.5185)\n",
            "tensor(0.5185)\n",
            "tensor(0.3889)\n",
            "tensor(0.3889)\n",
            "tensor(0.3889)\n",
            "tensor(0.4074)\n",
            "tensor(0.3889)\n",
            "tensor(0.3889)\n",
            "tensor(0.4074)\n",
            "tensor(0.3889)\n",
            "tensor(0.4259)\n",
            "tensor(0.3889)\n",
            "tensor(0.4259)\n",
            "tensor(0.4259)\n",
            "tensor(0.4259)\n",
            "tensor(0.4259)\n",
            "tensor(0.4259)\n",
            "tensor(0.4259)\n",
            "tensor(0.4444)\n",
            "tensor(0.5741)\n",
            "tensor(0.5741)\n",
            "tensor(0.6296)\n",
            "tensor(0.6481)\n",
            "tensor(0.6481)\n",
            "tensor(0.6667)\n",
            "tensor(0.6852)\n",
            "tensor(0.6852)\n",
            "tensor(0.6852)\n",
            "tensor(0.7037)\n",
            "tensor(0.7407)\n",
            "tensor(0.7593)\n",
            "tensor(0.7778)\n",
            "tensor(0.7963)\n",
            "tensor(0.7778)\n",
            "tensor(0.7778)\n",
            "tensor(0.7963)\n",
            "tensor(0.7778)\n",
            "tensor(0.7963)\n",
            "tensor(0.7963)\n",
            "tensor(0.7963)\n",
            "tensor(0.7963)\n",
            "tensor(0.7963)\n",
            "tensor(0.7963)\n",
            "tensor(0.7963)\n",
            "tensor(0.8148)\n",
            "tensor(0.8333)\n",
            "tensor(0.8519)\n",
            "tensor(0.8333)\n",
            "tensor(0.8333)\n",
            "tensor(0.8519)\n"
          ]
        }
      ]
    },
    {
      "cell_type": "code",
      "source": [
        "import matplotlib.pyplot as plt\n",
        "%matplotlib inline\n",
        "\n",
        "plt.rcParams['figure.figsize'] = (10, 8)\n",
        "\n",
        "n_classes = 3\n",
        "plot_colors = ['g', 'orange', 'black']\n",
        "plot_step = 0.02\n",
        "\n",
        "x_min, x_max = X_train[:, 0].min() - 1, X_train[:, 0].max() + 1\n",
        "y_min, y_max = X_train[:, 1].min() - 1, X_train[:, 1].max() + 1\n",
        "\n",
        "xx, yy = torch.meshgrid(torch.arange(x_min, x_max, plot_step), torch.arange(y_min, y_max, plot_step))\n",
        "\n",
        "preds = wine_net.inference(torch.cat([xx.reshape(-1, 1), yy.reshape(-1, 1)], dim=1))\n",
        "\n",
        "preds_class = preds.data.numpy().argmax(axis=1)\n",
        "preds_class = preds_class.reshape(xx.shape)\n",
        "plt.contourf(xx, yy, preds_class, cmap='Accent')\n",
        "\n",
        "for i, color in zip(range(n_classes), plot_colors):\n",
        "    indexes = np.where(y_train == i)\n",
        "    plt.scatter(X_train[indexes, 0], \n",
        "                X_train[indexes, 1], \n",
        "                c=color, \n",
        "                label=wine.target_names[i], \n",
        "                cmap='Accent') \n",
        "    plt.xlabel(wine.feature_names[0])\n",
        "    plt.ylabel(wine.feature_names[1])\n",
        "    plt.legend()"
      ],
      "metadata": {
        "colab": {
          "base_uri": "https://localhost:8080/",
          "height": 569
        },
        "id": "j29e6HvUOyDd",
        "outputId": "a85749e5-9f26-494b-e765-dc71ec7b3d94"
      },
      "execution_count": null,
      "outputs": [
        {
          "output_type": "stream",
          "name": "stderr",
          "text": [
            "/usr/local/lib/python3.7/dist-packages/torch/functional.py:445: UserWarning: torch.meshgrid: in an upcoming release, it will be required to pass the indexing argument. (Triggered internally at  ../aten/src/ATen/native/TensorShape.cpp:2157.)\n",
            "  return _VF.meshgrid(tensors, **kwargs)  # type: ignore[attr-defined]\n",
            "/usr/local/lib/python3.7/dist-packages/ipykernel_launcher.py:23: UserWarning: Creating a tensor from a list of numpy.ndarrays is extremely slow. Please consider converting the list to a single numpy.ndarray with numpy.array() before converting to a tensor. (Triggered internally at  ../torch/csrc/utils/tensor_new.cpp:201.)\n"
          ]
        },
        {
          "output_type": "display_data",
          "data": {
            "text/plain": [
              "<Figure size 720x576 with 1 Axes>"
            ],
            "image/png": "[encoded data removed]"
          },
          "metadata": {
            "needs_background": "light"
          }
        }
      ]
    }
  ]
}